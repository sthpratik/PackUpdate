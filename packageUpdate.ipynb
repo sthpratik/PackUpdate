{
 "cells": [
  {
   "cell_type": "code",
   "execution_count": 2,
   "metadata": {},
   "outputs": [
    {
     "name": "stdout",
     "output_type": "stream",
     "text": [
      "Requirement already satisfied: packUpdate in /Users/manshres1/miniconda3/lib/python3.12/site-packages (1.0.0)\n",
      "Note: you may need to restart the kernel to use updated packages.\n"
     ]
    }
   ],
   "source": [
    "%pip install packUpdate"
   ]
  },
  {
   "cell_type": "code",
   "execution_count": 6,
   "metadata": {},
   "outputs": [
    {
     "name": "stdout",
     "output_type": "stream",
     "text": [
      "packUpdate                               1.0.0\n",
      "Note: you may need to restart the kernel to use updated packages.\n"
     ]
    }
   ],
   "source": [
    "pip list | grep packUpdate"
   ]
  },
  {
   "cell_type": "code",
   "execution_count": 7,
   "metadata": {},
   "outputs": [
    {
     "name": "stdout",
     "output_type": "stream",
     "text": [
      "['/Users/manshres1/miniconda3/lib/python312.zip', '/Users/manshres1/miniconda3/lib/python3.12', '/Users/manshres1/miniconda3/lib/python3.12/lib-dynload', '', '/Users/manshres1/.local/lib/python3.12/site-packages', '/Users/manshres1/miniconda3/lib/python3.12/site-packages', '/Users/manshres1/miniconda3/lib/python3.12/site-packages/rerun_sdk']\n"
     ]
    }
   ],
   "source": [
    "import sys\n",
    "print(sys.path)"
   ]
  },
  {
   "cell_type": "code",
   "execution_count": 11,
   "metadata": {},
   "outputs": [
    {
     "name": "stdout",
     "output_type": "stream",
     "text": [
      "Package installed successfully!\n"
     ]
    },
    {
     "name": "stderr",
     "output_type": "stream",
     "text": [
      "Traceback (most recent call last):\n",
      "  File \"/Users/manshres1/miniconda3/bin/updatePackages\", line 5, in <module>\n",
      "    from updatePackages import main\n",
      "ModuleNotFoundError: No module named 'updatePackages'\n"
     ]
    }
   ],
   "source": [
    "try:\n",
    "    from packUpdate import updatePackages\n",
    "    print(\"Package installed successfully!\")\n",
    "    # Test the command-line entry point\n",
    "    import subprocess\n",
    "    subprocess.run([\"updatePackages\", \"--help\"])\n",
    "except ImportError as e:\n",
    "    print(f\"Installation failed: {e}\")"
   ]
  },
  {
   "cell_type": "code",
   "execution_count": 19,
   "metadata": {},
   "outputs": [
    {
     "ename": "NameError",
     "evalue": "name 'Users' is not defined",
     "output_type": "error",
     "traceback": [
      "\u001b[0;31m---------------------------------------------------------------------------\u001b[0m",
      "\u001b[0;31mNameError\u001b[0m                                 Traceback (most recent call last)",
      "Cell \u001b[0;32mIn[19], line 1\u001b[0m\n\u001b[0;32m----> 1\u001b[0m updatePackages \u001b[38;5;241m/\u001b[39m\u001b[43mUsers\u001b[49m\u001b[38;5;241m/\u001b[39mmanshres1\u001b[38;5;241m/\u001b[39mDocuments\u001b[38;5;241m/\u001b[39mApps\u001b[38;5;241m/\u001b[39mmagellan\n",
      "\u001b[0;31mNameError\u001b[0m: name 'Users' is not defined"
     ]
    }
   ],
   "source": [
    "updatePackages /Users/manshres1/Documents/Apps/magellan"
   ]
  },
  {
   "cell_type": "code",
   "execution_count": 18,
   "metadata": {},
   "outputs": [
    {
     "data": {
      "text/plain": [
       "'/Users/manshres1/Documents/Apps/PackUpdate'"
      ]
     },
     "execution_count": 18,
     "metadata": {},
     "output_type": "execute_result"
    }
   ],
   "source": [
    "pwd"
   ]
  }
 ],
 "metadata": {
  "kernelspec": {
   "display_name": "base",
   "language": "python",
   "name": "python3"
  },
  "language_info": {
   "codemirror_mode": {
    "name": "ipython",
    "version": 3
   },
   "file_extension": ".py",
   "mimetype": "text/x-python",
   "name": "python",
   "nbconvert_exporter": "python",
   "pygments_lexer": "ipython3",
   "version": "3.12.2"
  }
 },
 "nbformat": 4,
 "nbformat_minor": 2
}
